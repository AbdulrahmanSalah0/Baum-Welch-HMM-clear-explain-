{
 "cells": [
  {
   "cell_type": "code",
   "execution_count": 1,
   "id": "5e8b7466",
   "metadata": {},
   "outputs": [],
   "source": [
    "import numpy as np"
   ]
  },
  {
   "cell_type": "markdown",
   "id": "b5a3c48f",
   "metadata": {},
   "source": [
    "### Forward algorithm"
   ]
  },
  {
   "cell_type": "code",
   "execution_count": 2,
   "id": "e5cb1956",
   "metadata": {},
   "outputs": [],
   "source": [
    "def forward_algorithm(pi, A, B, observations):\n",
    "    T = len(observations)\n",
    "    N = len(pi)\n",
    "    \n",
    "    alpha = np.zeros((T, N))\n",
    "    \n",
    "    # Initialization\n",
    "    alpha[0, :] = pi * B[:, observations[0]]\n",
    "    \n",
    "    # Forward recursion\n",
    "    for t in range(1, T):\n",
    "        for j in range(N):\n",
    "            alpha[t, j] = np.sum(alpha[t - 1, :] * A[:, j]) * B[j, observations[t]]\n",
    "    \n",
    "    return alpha"
   ]
  },
  {
   "cell_type": "markdown",
   "id": "a56aa727",
   "metadata": {},
   "source": [
    "### Backward algorithm"
   ]
  },
  {
   "cell_type": "code",
   "execution_count": 3,
   "id": "5ec0149e",
   "metadata": {},
   "outputs": [],
   "source": [
    "def backward_algorithm(A, B, observations):\n",
    "    T = len(observations)\n",
    "    N = A.shape[0]\n",
    "    \n",
    "    beta = np.ones((T, N))\n",
    "    \n",
    "    # Backward recursion\n",
    "    for t in range(T - 2, -1, -1):\n",
    "        for i in range(N):\n",
    "            beta[t, i] = np.sum(A[i, :] * B[:, observations[t + 1]] * beta[t + 1, :])\n",
    "    \n",
    "    return beta"
   ]
  },
  {
   "cell_type": "markdown",
   "id": "ee2039f1",
   "metadata": {},
   "source": [
    "### baum-welch"
   ]
  },
  {
   "cell_type": "code",
   "execution_count": 4,
   "id": "d39f6efd",
   "metadata": {},
   "outputs": [],
   "source": [
    "def baum_welch(pi, A, B, observations, iterations):\n",
    "    T = len(observations)\n",
    "    N = len(pi)\n",
    "    M = B.shape[1]\n",
    "    \n",
    "    for iteration in range(iterations):\n",
    "        # E-step\n",
    "        alpha = forward_algorithm(pi, A, B, observations)\n",
    "        beta = backward_algorithm(A, B, observations)\n",
    "        \n",
    "        xi = np.zeros((T - 1, N, N))\n",
    "        gamma = np.zeros((T, N))\n",
    "        \n",
    "        for t in range(T - 1):\n",
    "            denominator = np.sum(alpha[t, :] * beta[t, :])\n",
    "            \n",
    "            for i in range(N):\n",
    "                gamma[t, i] = (alpha[t, i] * beta[t, i]) / denominator\n",
    "                \n",
    "                for j in range(N):\n",
    "                    xi[t, i, j] = (alpha[t, i] * A[i, j] * B[j, observations[t + 1]] * beta[t + 1, j]) / denominator\n",
    "        \n",
    "        # M-step\n",
    "        pi = gamma[0, :]\n",
    "        \n",
    "        for i in range(N):\n",
    "            for j in range(N):\n",
    "                A[i, j] = np.sum(xi[:, i, j]) / np.sum(gamma[:-1, i])\n",
    "        \n",
    "        for j in range(N):\n",
    "            for k in range(M):\n",
    "                B[j, k] = np.sum(gamma[:, j] * (observations == k)) / np.sum(gamma[:, j])\n",
    "    \n",
    "    return pi, A, B"
   ]
  },
  {
   "cell_type": "markdown",
   "id": "615b9f8f",
   "metadata": {},
   "source": [
    "### Example"
   ]
  },
  {
   "cell_type": "code",
   "execution_count": 5,
   "id": "33edc5a5",
   "metadata": {},
   "outputs": [
    {
     "name": "stdout",
     "output_type": "stream",
     "text": [
      "Final Initial State Probabilities: [0.07162835 0.92837165]\n",
      "Final Transition Matrix (P):\n",
      " [[0.2967108  0.7032892 ]\n",
      " [0.39332876 0.60667124]]\n",
      "Final Emission Probabilities (E):\n",
      " [[0.20947586 0.79052414]\n",
      " [0.6430112  0.3569888 ]]\n"
     ]
    }
   ],
   "source": [
    "# Given data\n",
    "pi = np.array([0.5, 0.5])\n",
    "p = np.array([[0.7, 0.3], [0.4, 0.6]])\n",
    "e = np.array([[0.1, 0.9], [0.6, 0.4]])\n",
    "observations = np.array([0, 1, 0, 1, 0])\n",
    "iterations = 2\n",
    "\n",
    "# Run Baum-Welch algorithm\n",
    "pi, p, e = baum_welch(pi, p, e, observations, iterations)\n",
    "\n",
    "# Display results\n",
    "print(\"Final Initial State Probabilities:\", pi)\n",
    "print(\"Final Transition Matrix (P):\\n\", p)\n",
    "print(\"Final Emission Probabilities (E):\\n\", e)"
   ]
  },
  {
   "cell_type": "markdown",
   "id": "927b4678",
   "metadata": {},
   "source": [
    "# "
   ]
  }
 ],
 "metadata": {
  "kernelspec": {
   "display_name": "Python 3 (ipykernel)",
   "language": "python",
   "name": "python3"
  },
  "language_info": {
   "codemirror_mode": {
    "name": "ipython",
    "version": 3
   },
   "file_extension": ".py",
   "mimetype": "text/x-python",
   "name": "python",
   "nbconvert_exporter": "python",
   "pygments_lexer": "ipython3",
   "version": "3.9.13"
  }
 },
 "nbformat": 4,
 "nbformat_minor": 5
}
